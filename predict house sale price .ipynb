{
 "cells": [
  {
   "cell_type": "markdown",
   "metadata": {},
   "source": [
    "# 数据概况\n",
    "这是艾姆斯爱荷华州的房价数据，我现在的目的是用回归的方法预测下房价。数据字典见\n",
    "https://ww2.amstat.org/publications/jse/v19n3/decock/DataDocumentation.txt "
   ]
  },
  {
   "cell_type": "code",
   "execution_count": 1,
   "metadata": {
    "scrolled": true
   },
   "outputs": [
    {
     "data": {
      "text/html": [
       "<div>\n",
       "<style scoped>\n",
       "    .dataframe tbody tr th:only-of-type {\n",
       "        vertical-align: middle;\n",
       "    }\n",
       "\n",
       "    .dataframe tbody tr th {\n",
       "        vertical-align: top;\n",
       "    }\n",
       "\n",
       "    .dataframe thead th {\n",
       "        text-align: right;\n",
       "    }\n",
       "</style>\n",
       "<table border=\"1\" class=\"dataframe\">\n",
       "  <thead>\n",
       "    <tr style=\"text-align: right;\">\n",
       "      <th></th>\n",
       "      <th>Order</th>\n",
       "      <th>PID</th>\n",
       "      <th>MS SubClass</th>\n",
       "      <th>MS Zoning</th>\n",
       "      <th>Lot Frontage</th>\n",
       "      <th>Lot Area</th>\n",
       "      <th>Street</th>\n",
       "      <th>Alley</th>\n",
       "      <th>Lot Shape</th>\n",
       "      <th>Land Contour</th>\n",
       "      <th>...</th>\n",
       "      <th>Pool Area</th>\n",
       "      <th>Pool QC</th>\n",
       "      <th>Fence</th>\n",
       "      <th>Misc Feature</th>\n",
       "      <th>Misc Val</th>\n",
       "      <th>Mo Sold</th>\n",
       "      <th>Yr Sold</th>\n",
       "      <th>Sale Type</th>\n",
       "      <th>Sale Condition</th>\n",
       "      <th>SalePrice</th>\n",
       "    </tr>\n",
       "  </thead>\n",
       "  <tbody>\n",
       "    <tr>\n",
       "      <th>0</th>\n",
       "      <td>1</td>\n",
       "      <td>526301100</td>\n",
       "      <td>20</td>\n",
       "      <td>RL</td>\n",
       "      <td>141.0</td>\n",
       "      <td>31770</td>\n",
       "      <td>Pave</td>\n",
       "      <td>NaN</td>\n",
       "      <td>IR1</td>\n",
       "      <td>Lvl</td>\n",
       "      <td>...</td>\n",
       "      <td>0</td>\n",
       "      <td>NaN</td>\n",
       "      <td>NaN</td>\n",
       "      <td>NaN</td>\n",
       "      <td>0</td>\n",
       "      <td>5</td>\n",
       "      <td>2010</td>\n",
       "      <td>WD</td>\n",
       "      <td>Normal</td>\n",
       "      <td>215000</td>\n",
       "    </tr>\n",
       "    <tr>\n",
       "      <th>1</th>\n",
       "      <td>2</td>\n",
       "      <td>526350040</td>\n",
       "      <td>20</td>\n",
       "      <td>RH</td>\n",
       "      <td>80.0</td>\n",
       "      <td>11622</td>\n",
       "      <td>Pave</td>\n",
       "      <td>NaN</td>\n",
       "      <td>Reg</td>\n",
       "      <td>Lvl</td>\n",
       "      <td>...</td>\n",
       "      <td>0</td>\n",
       "      <td>NaN</td>\n",
       "      <td>MnPrv</td>\n",
       "      <td>NaN</td>\n",
       "      <td>0</td>\n",
       "      <td>6</td>\n",
       "      <td>2010</td>\n",
       "      <td>WD</td>\n",
       "      <td>Normal</td>\n",
       "      <td>105000</td>\n",
       "    </tr>\n",
       "    <tr>\n",
       "      <th>2</th>\n",
       "      <td>3</td>\n",
       "      <td>526351010</td>\n",
       "      <td>20</td>\n",
       "      <td>RL</td>\n",
       "      <td>81.0</td>\n",
       "      <td>14267</td>\n",
       "      <td>Pave</td>\n",
       "      <td>NaN</td>\n",
       "      <td>IR1</td>\n",
       "      <td>Lvl</td>\n",
       "      <td>...</td>\n",
       "      <td>0</td>\n",
       "      <td>NaN</td>\n",
       "      <td>NaN</td>\n",
       "      <td>Gar2</td>\n",
       "      <td>12500</td>\n",
       "      <td>6</td>\n",
       "      <td>2010</td>\n",
       "      <td>WD</td>\n",
       "      <td>Normal</td>\n",
       "      <td>172000</td>\n",
       "    </tr>\n",
       "    <tr>\n",
       "      <th>3</th>\n",
       "      <td>4</td>\n",
       "      <td>526353030</td>\n",
       "      <td>20</td>\n",
       "      <td>RL</td>\n",
       "      <td>93.0</td>\n",
       "      <td>11160</td>\n",
       "      <td>Pave</td>\n",
       "      <td>NaN</td>\n",
       "      <td>Reg</td>\n",
       "      <td>Lvl</td>\n",
       "      <td>...</td>\n",
       "      <td>0</td>\n",
       "      <td>NaN</td>\n",
       "      <td>NaN</td>\n",
       "      <td>NaN</td>\n",
       "      <td>0</td>\n",
       "      <td>4</td>\n",
       "      <td>2010</td>\n",
       "      <td>WD</td>\n",
       "      <td>Normal</td>\n",
       "      <td>244000</td>\n",
       "    </tr>\n",
       "    <tr>\n",
       "      <th>4</th>\n",
       "      <td>5</td>\n",
       "      <td>527105010</td>\n",
       "      <td>60</td>\n",
       "      <td>RL</td>\n",
       "      <td>74.0</td>\n",
       "      <td>13830</td>\n",
       "      <td>Pave</td>\n",
       "      <td>NaN</td>\n",
       "      <td>IR1</td>\n",
       "      <td>Lvl</td>\n",
       "      <td>...</td>\n",
       "      <td>0</td>\n",
       "      <td>NaN</td>\n",
       "      <td>MnPrv</td>\n",
       "      <td>NaN</td>\n",
       "      <td>0</td>\n",
       "      <td>3</td>\n",
       "      <td>2010</td>\n",
       "      <td>WD</td>\n",
       "      <td>Normal</td>\n",
       "      <td>189900</td>\n",
       "    </tr>\n",
       "  </tbody>\n",
       "</table>\n",
       "<p>5 rows × 82 columns</p>\n",
       "</div>"
      ],
      "text/plain": [
       "   Order        PID  MS SubClass MS Zoning  Lot Frontage  Lot Area Street  \\\n",
       "0      1  526301100           20        RL         141.0     31770   Pave   \n",
       "1      2  526350040           20        RH          80.0     11622   Pave   \n",
       "2      3  526351010           20        RL          81.0     14267   Pave   \n",
       "3      4  526353030           20        RL          93.0     11160   Pave   \n",
       "4      5  527105010           60        RL          74.0     13830   Pave   \n",
       "\n",
       "  Alley Lot Shape Land Contour    ...     Pool Area Pool QC  Fence  \\\n",
       "0   NaN       IR1          Lvl    ...             0     NaN    NaN   \n",
       "1   NaN       Reg          Lvl    ...             0     NaN  MnPrv   \n",
       "2   NaN       IR1          Lvl    ...             0     NaN    NaN   \n",
       "3   NaN       Reg          Lvl    ...             0     NaN    NaN   \n",
       "4   NaN       IR1          Lvl    ...             0     NaN  MnPrv   \n",
       "\n",
       "  Misc Feature Misc Val Mo Sold Yr Sold Sale Type  Sale Condition  SalePrice  \n",
       "0          NaN        0       5    2010       WD           Normal     215000  \n",
       "1          NaN        0       6    2010       WD           Normal     105000  \n",
       "2         Gar2    12500       6    2010       WD           Normal     172000  \n",
       "3          NaN        0       4    2010       WD           Normal     244000  \n",
       "4          NaN        0       3    2010       WD           Normal     189900  \n",
       "\n",
       "[5 rows x 82 columns]"
      ]
     },
     "execution_count": 1,
     "metadata": {},
     "output_type": "execute_result"
    }
   ],
   "source": [
    "import numpy as np\n",
    "import pandas as pd\n",
    "import matplotlib.pyplot as plt\n",
    "from sklearn import linear_model\n",
    "from sklearn.metrics import mean_squared_error\n",
    "AmesHousing=pd.read_csv(\"AmesHousing.tsv\", delimiter=\"\\t\")\n",
    "AmesHousing.head(5)"
   ]
  },
  {
   "cell_type": "markdown",
   "metadata": {},
   "source": [
    "先制作一个Demo模型"
   ]
  },
  {
   "cell_type": "code",
   "execution_count": 2,
   "metadata": {},
   "outputs": [],
   "source": [
    "# 清洗数据\n",
    "# data 数据集\n",
    "# return 清洗后的数据集\n",
    "def transform_features(data):\n",
    "    return data"
   ]
  },
  {
   "cell_type": "code",
   "execution_count": 3,
   "metadata": {},
   "outputs": [],
   "source": [
    "# 特征选取\n",
    "# data 数据集\n",
    "# return 特征列的数据\n",
    "def select_features(data):\n",
    "    return data[[\"Gr Liv Area\",\"SalePrice\"]]"
   ]
  },
  {
   "cell_type": "code",
   "execution_count": 4,
   "metadata": {},
   "outputs": [],
   "source": [
    "# 训练模型并测试误差\n",
    "# return 误差RMSE\n",
    "def train_and_test(data):\n",
    "    # 清理包含空值的行\n",
    "    data = data.dropna(axis=0)\n",
    "    \n",
    "    # 创建特征列，只包含数字类型的特征\n",
    "    features = data.select_dtypes(include=[\"integer\", \"float\"]).columns.drop(\"SalePrice\")\n",
    "    \n",
    "    # 将数据分割成训练集和测试集\n",
    "    train = data[0:1460]\n",
    "    test = data[1460:]\n",
    "\n",
    "    # 训练模型并作出预测值\n",
    "    lr = linear_model.LinearRegression()\n",
    "    lr.fit(train[features], train[\"SalePrice\"])\n",
    "    p = lr.predict(test[features])\n",
    "    \n",
    "    return mean_squared_error(p, test[\"SalePrice\"])**(1/2)"
   ]
  },
  {
   "cell_type": "code",
   "execution_count": 5,
   "metadata": {},
   "outputs": [
    {
     "data": {
      "text/plain": [
       "57088.25161263909"
      ]
     },
     "execution_count": 5,
     "metadata": {},
     "output_type": "execute_result"
    }
   ],
   "source": [
    "transform_df = transform_features(AmesHousing)\n",
    "filtered_df = select_features(transform_df)\n",
    "rmse = train_and_test(filtered_df)\n",
    "rmse"
   ]
  },
  {
   "cell_type": "markdown",
   "metadata": {},
   "source": [
    "# 特征工程\n",
    "- 处理缺失值:\n",
    "    - 所有的列:\n",
    "        - 删除缺失值超过5%的列\n",
    "    - 文本列:\n",
    "        - 删除缺失值超过1以上的列\n",
    "    - 数字列:\n",
    "        - 用该列中最多的数字，来填充该列的缺失值"
   ]
  },
  {
   "cell_type": "markdown",
   "metadata": {},
   "source": [
    "删除缺失值超过5%的列"
   ]
  },
  {
   "cell_type": "code",
   "execution_count": 6,
   "metadata": {},
   "outputs": [
    {
     "data": {
      "text/plain": [
       "(2930, 71)"
      ]
     },
     "execution_count": 6,
     "metadata": {},
     "output_type": "execute_result"
    }
   ],
   "source": [
    "# 总行数 \n",
    "AmesHousing_rows_num = AmesHousing.shape[0]\n",
    "\n",
    "# 每一列的缺失值组成的series\n",
    "miss_values_rows_num_serise = AmesHousing.isnull().sum()\n",
    "\n",
    "# 删除\n",
    "cols=miss_values_rows_num_serise[miss_values_rows_num_serise > (AmesHousing_rows_num*0.05)].index\n",
    "t=AmesHousing.drop(cols, axis=1)\n",
    "\n",
    "t.shape"
   ]
  },
  {
   "cell_type": "markdown",
   "metadata": {},
   "source": [
    "删除文本列中缺失值超过1以上的列"
   ]
  },
  {
   "cell_type": "code",
   "execution_count": 7,
   "metadata": {},
   "outputs": [
    {
     "data": {
      "text/plain": [
       "(2930, 82)"
      ]
     },
     "execution_count": 7,
     "metadata": {},
     "output_type": "execute_result"
    }
   ],
   "source": [
    "AmesHousing.shape"
   ]
  },
  {
   "cell_type": "code",
   "execution_count": 8,
   "metadata": {},
   "outputs": [
    {
     "data": {
      "text/plain": [
       "(2930, 67)"
      ]
     },
     "execution_count": 8,
     "metadata": {},
     "output_type": "execute_result"
    }
   ],
   "source": [
    "# 选取只有文本列的列名\n",
    "feature = AmesHousing.select_dtypes(include=[\"object\"]).columns\n",
    "\n",
    "# 求出每一列的空值数量\n",
    "t = AmesHousing[feature].isnull().sum()\n",
    "# 删除空值数量>1的列\n",
    "t=AmesHousing.drop( t[t>1].index , axis=1)\n",
    "\n",
    "t.shape"
   ]
  },
  {
   "cell_type": "markdown",
   "metadata": {},
   "source": [
    "对于数字列而言，用该列中最多的数字，来填充该列的缺失值"
   ]
  },
  {
   "cell_type": "code",
   "execution_count": 9,
   "metadata": {
    "scrolled": true
   },
   "outputs": [
    {
     "data": {
      "text/plain": [
       "Order              0\n",
       "PID                0\n",
       "MS SubClass        0\n",
       "Lot Frontage       0\n",
       "Lot Area           0\n",
       "Overall Qual       0\n",
       "Overall Cond       0\n",
       "Year Built         0\n",
       "Year Remod/Add     0\n",
       "Mas Vnr Area       0\n",
       "BsmtFin SF 1       0\n",
       "BsmtFin SF 2       0\n",
       "Bsmt Unf SF        0\n",
       "Total Bsmt SF      0\n",
       "1st Flr SF         0\n",
       "2nd Flr SF         0\n",
       "Low Qual Fin SF    0\n",
       "Gr Liv Area        0\n",
       "Bsmt Full Bath     0\n",
       "Bsmt Half Bath     0\n",
       "Full Bath          0\n",
       "Half Bath          0\n",
       "Bedroom AbvGr      0\n",
       "Kitchen AbvGr      0\n",
       "TotRms AbvGrd      0\n",
       "Fireplaces         0\n",
       "Garage Yr Blt      0\n",
       "Garage Cars        0\n",
       "Garage Area        0\n",
       "Wood Deck SF       0\n",
       "Open Porch SF      0\n",
       "Enclosed Porch     0\n",
       "3Ssn Porch         0\n",
       "Screen Porch       0\n",
       "Pool Area          0\n",
       "Misc Val           0\n",
       "Mo Sold            0\n",
       "Yr Sold            0\n",
       "SalePrice          0\n",
       "dtype: int64"
      ]
     },
     "execution_count": 9,
     "metadata": {},
     "output_type": "execute_result"
    }
   ],
   "source": [
    "# 获取只有数字类型的数据集\n",
    "df = AmesHousing.select_dtypes(include=\"number\")\n",
    "\n",
    "# 获取每一列中出现次数最多的数字\n",
    "col_val = {}\n",
    "for col in df.columns:   \n",
    "    col_val[col] = df[col].value_counts().index[0]\n",
    "\n",
    "# 用重复次数最多的数字填充NaN\n",
    "df = df.fillna(col_val)\n",
    "df.isnull().sum()"
   ]
  },
  {
   "cell_type": "markdown",
   "metadata": {},
   "source": [
    "- 思考可以增加一个新的特征吗？\n",
    "    - year sale - year build （出售年 - 建造年） 这意味着这间房子放了多久才被买走\n",
    "    - year sale - year Remod/Add' （出售年 - 装修年）这意味着这间房子装修的时间\n",
    "- 删除一些泄露了销售价格的列"
   ]
  },
  {
   "cell_type": "markdown",
   "metadata": {},
   "source": [
    "建立 year sale - year build （出售年 - 建造年）"
   ]
  },
  {
   "cell_type": "code",
   "execution_count": 10,
   "metadata": {},
   "outputs": [
    {
     "name": "stdout",
     "output_type": "stream",
     "text": [
      "(2930, 82)\n",
      "(2929, 83)\n"
     ]
    },
    {
     "data": {
      "text/plain": [
       "Series([], Name: year sale - year build, dtype: int64)"
      ]
     },
     "execution_count": 10,
     "metadata": {},
     "output_type": "execute_result"
    }
   ],
   "source": [
    "df = AmesHousing\n",
    "print(df.shape)\n",
    "df[\"year sale - year build\"] = df[\"Yr Sold\"] - df[\"Year Built\"]\n",
    "\n",
    "# 第2180行是负数，不符合逻辑，房子没建好就卖了？\n",
    "df[\"year sale - year build\"][df[\"year sale - year build\"] < 0]\n",
    "\n",
    "df=df.drop(2180, axis=0)\n",
    "print(df.shape)\n",
    "df[\"year sale - year build\"][df[\"year sale - year build\"] < 0]"
   ]
  },
  {
   "cell_type": "markdown",
   "metadata": {},
   "source": [
    "建立装修年新列"
   ]
  },
  {
   "cell_type": "code",
   "execution_count": 11,
   "metadata": {},
   "outputs": [
    {
     "name": "stdout",
     "output_type": "stream",
     "text": [
      "(2930, 83)\n",
      "(2927, 84)\n"
     ]
    },
    {
     "data": {
      "text/plain": [
       "Series([], Name: year sale - Year Remod, dtype: int64)"
      ]
     },
     "execution_count": 11,
     "metadata": {},
     "output_type": "execute_result"
    }
   ],
   "source": [
    "df = AmesHousing\n",
    "print(df.shape)\n",
    "df[\"year sale - Year Remod\"] = df[\"Yr Sold\"] - df[\"Year Remod/Add\"]\n",
    "\n",
    "error_list = df[\"year sale - Year Remod\"][df[\"year sale - Year Remod\"] < 0].index\n",
    "\n",
    "df=df.drop(error_list, axis=0)\n",
    "print(df.shape)\n",
    "df[\"year sale - Year Remod\"][df[\"year sale - Year Remod\"] < 0]"
   ]
  },
  {
   "cell_type": "code",
   "execution_count": 12,
   "metadata": {},
   "outputs": [],
   "source": [
    "error_list = [\"Mo Sold\", \"Sale Condition\", \"Sale Type\", \"Yr Sold\"]"
   ]
  },
  {
   "cell_type": "markdown",
   "metadata": {},
   "source": [
    "更新下transform_df函数，用到上面的删除缺失值的方法、增加新特征和剔除泄露数据的列"
   ]
  },
  {
   "cell_type": "code",
   "execution_count": 13,
   "metadata": {},
   "outputs": [],
   "source": [
    "def transform_df(data):\n",
    "    # ------------ 删除缺失值超过5%的列 ------------\n",
    "    # 每一列的缺失值组成的series\n",
    "    miss_values_rows_num_serise = data.isnull().sum()\n",
    "\n",
    "    # 删除缺失值超过5%的列\n",
    "    cols = miss_values_rows_num_serise[miss_values_rows_num_serise > (data.shape[0]*0.05)].index\n",
    "    data = data.drop(cols, axis=1)\n",
    "    \n",
    "    # ------------ 删除文本列中缺失值超过1以上的列 ------------\n",
    "    # 选取只有文本列的列名\n",
    "    cols = data.select_dtypes(include=[\"object\"]).columns\n",
    "\n",
    "    # 求出每一列的空值数量\n",
    "    t = data[cols].isnull().sum()\n",
    "    # 删除空值数量>1的列\n",
    "    data = data.drop( t[t>1].index , axis=1)\n",
    "    \n",
    "    # ------------- 用该列中最多的数字，来填充该列的缺失值 -------------\n",
    "    # 获取只有数字列的列名\n",
    "    cols = data.select_dtypes(include=\"number\").columns\n",
    "\n",
    "    # 获取每一列中出现次数最多的数字 组建成一个字典\n",
    "    col_val = {}\n",
    "    for col in cols:\n",
    "        col_val[col] = data[col].value_counts().index[0]\n",
    "\n",
    "    # 用重复次数最多的数字填充NaN\n",
    "    data = data.fillna(col_val)\n",
    "    \n",
    "    # ------------- 用SBrkr来填充Electrical列 -------------\n",
    "    dics = {}\n",
    "    dics[\"Electrical\"] = \"SBrkr\"\n",
    "    data = data.fillna(dics)\n",
    "    \n",
    "    # ------------- 建立装修年新列 -------------\n",
    "    data[\"year sale - Year Remod\"] = data[\"Yr Sold\"] - data[\"Year Remod/Add\"]\n",
    "    \n",
    "    # 新列中有负数，将其删除\n",
    "    error_list = data[\"year sale - Year Remod\"][data[\"year sale - Year Remod\"] < 0].index\n",
    "    data = data.drop(error_list, axis=0)\n",
    "\n",
    "    # ------------- 建立 year sale - year build （出售年 - 建造年）新列 -------------\n",
    "    data[\"year sale - year build\"] = data[\"Yr Sold\"] - data[\"Year Built\"]\n",
    "\n",
    "    # 第2180行是负数，不符合逻辑，房子没建好就卖了？\n",
    "    df[\"year sale - year build\"][df[\"year sale - year build\"] < 0]\n",
    "\n",
    "    df=df.drop(2180, axis=0)\n",
    "    print(df.shape)\n",
    "    df[\"year sale - year build\"][df[\"year sale - year build\"] < 0]\n",
    "    return data"
   ]
  },
  {
   "cell_type": "code",
   "execution_count": 15,
   "metadata": {},
   "outputs": [
    {
     "data": {
      "text/plain": [
       "0    67\n",
       "dtype: int64"
      ]
     },
     "execution_count": 15,
     "metadata": {},
     "output_type": "execute_result"
    }
   ],
   "source": [
    "data=transform_df(AmesHousing)\n",
    "data.isnull().sum().value_counts()"
   ]
  },
  {
   "cell_type": "markdown",
   "metadata": {},
   "source": [
    "# 特征选择"
   ]
  },
  {
   "cell_type": "markdown",
   "metadata": {},
   "source": [
    "# 训练模型"
   ]
  },
  {
   "cell_type": "code",
   "execution_count": null,
   "metadata": {},
   "outputs": [],
   "source": []
  },
  {
   "cell_type": "code",
   "execution_count": null,
   "metadata": {},
   "outputs": [],
   "source": []
  }
 ],
 "metadata": {
  "kernelspec": {
   "display_name": "Python 3",
   "language": "python",
   "name": "python3"
  },
  "language_info": {
   "codemirror_mode": {
    "name": "ipython",
    "version": 3
   },
   "file_extension": ".py",
   "mimetype": "text/x-python",
   "name": "python",
   "nbconvert_exporter": "python",
   "pygments_lexer": "ipython3",
   "version": "3.6.4"
  }
 },
 "nbformat": 4,
 "nbformat_minor": 2
}
